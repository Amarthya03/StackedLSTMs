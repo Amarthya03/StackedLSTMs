{
  "nbformat": 4,
  "nbformat_minor": 0,
  "metadata": {
    "colab": {
      "name": "Stacked LSTMs.ipynb",
      "provenance": []
    },
    "kernelspec": {
      "name": "python3",
      "display_name": "Python 3"
    },
    "language_info": {
      "name": "python"
    }
  },
  "cells": [
    {
      "cell_type": "code",
      "metadata": {
        "id": "ummV3Klgg88T"
      },
      "source": [
        "import pandas_datareader as pdr"
      ],
      "execution_count": 1,
      "outputs": []
    },
    {
      "cell_type": "code",
      "metadata": {
        "id": "g77P0R9Fs9n6"
      },
      "source": [
        "df = pdr.get_data_tiingo('AAPL', api_key = '8b4dc8427082d9ecb180cb2840316df12aa25f67')"
      ],
      "execution_count": 2,
      "outputs": []
    },
    {
      "cell_type": "code",
      "metadata": {
        "id": "5noV2LIXtKcY"
      },
      "source": [
        "df.to_csv('/content/drive/MyDrive/Stock Prediction/Notebooks/AAPL.csv')"
      ],
      "execution_count": 3,
      "outputs": []
    },
    {
      "cell_type": "code",
      "metadata": {
        "colab": {
          "base_uri": "https://localhost:8080/",
          "height": 233
        },
        "id": "4B9dgr0Httn_",
        "outputId": "5739c33c-7792-4a7a-b639-b3dad48a5484"
      },
      "source": [
        "df.tail()"
      ],
      "execution_count": 4,
      "outputs": [
        {
          "output_type": "execute_result",
          "data": {
            "text/html": [
              "<div>\n",
              "<style scoped>\n",
              "    .dataframe tbody tr th:only-of-type {\n",
              "        vertical-align: middle;\n",
              "    }\n",
              "\n",
              "    .dataframe tbody tr th {\n",
              "        vertical-align: top;\n",
              "    }\n",
              "\n",
              "    .dataframe thead th {\n",
              "        text-align: right;\n",
              "    }\n",
              "</style>\n",
              "<table border=\"1\" class=\"dataframe\">\n",
              "  <thead>\n",
              "    <tr style=\"text-align: right;\">\n",
              "      <th></th>\n",
              "      <th></th>\n",
              "      <th>close</th>\n",
              "      <th>high</th>\n",
              "      <th>low</th>\n",
              "      <th>open</th>\n",
              "      <th>volume</th>\n",
              "      <th>adjClose</th>\n",
              "      <th>adjHigh</th>\n",
              "      <th>adjLow</th>\n",
              "      <th>adjOpen</th>\n",
              "      <th>adjVolume</th>\n",
              "      <th>divCash</th>\n",
              "      <th>splitFactor</th>\n",
              "    </tr>\n",
              "    <tr>\n",
              "      <th>symbol</th>\n",
              "      <th>date</th>\n",
              "      <th></th>\n",
              "      <th></th>\n",
              "      <th></th>\n",
              "      <th></th>\n",
              "      <th></th>\n",
              "      <th></th>\n",
              "      <th></th>\n",
              "      <th></th>\n",
              "      <th></th>\n",
              "      <th></th>\n",
              "      <th></th>\n",
              "      <th></th>\n",
              "    </tr>\n",
              "  </thead>\n",
              "  <tbody>\n",
              "    <tr>\n",
              "      <th rowspan=\"5\" valign=\"top\">AAPL</th>\n",
              "      <th>2021-06-09 00:00:00+00:00</th>\n",
              "      <td>127.13</td>\n",
              "      <td>127.75</td>\n",
              "      <td>126.52</td>\n",
              "      <td>127.21</td>\n",
              "      <td>56877937</td>\n",
              "      <td>127.13</td>\n",
              "      <td>127.75</td>\n",
              "      <td>126.52</td>\n",
              "      <td>127.21</td>\n",
              "      <td>56877937</td>\n",
              "      <td>0.0</td>\n",
              "      <td>1.0</td>\n",
              "    </tr>\n",
              "    <tr>\n",
              "      <th>2021-06-10 00:00:00+00:00</th>\n",
              "      <td>126.11</td>\n",
              "      <td>128.19</td>\n",
              "      <td>125.94</td>\n",
              "      <td>127.02</td>\n",
              "      <td>71186421</td>\n",
              "      <td>126.11</td>\n",
              "      <td>128.19</td>\n",
              "      <td>125.94</td>\n",
              "      <td>127.02</td>\n",
              "      <td>71186421</td>\n",
              "      <td>0.0</td>\n",
              "      <td>1.0</td>\n",
              "    </tr>\n",
              "    <tr>\n",
              "      <th>2021-06-11 00:00:00+00:00</th>\n",
              "      <td>127.35</td>\n",
              "      <td>127.44</td>\n",
              "      <td>126.10</td>\n",
              "      <td>126.53</td>\n",
              "      <td>53522373</td>\n",
              "      <td>127.35</td>\n",
              "      <td>127.44</td>\n",
              "      <td>126.10</td>\n",
              "      <td>126.53</td>\n",
              "      <td>53522373</td>\n",
              "      <td>0.0</td>\n",
              "      <td>1.0</td>\n",
              "    </tr>\n",
              "    <tr>\n",
              "      <th>2021-06-14 00:00:00+00:00</th>\n",
              "      <td>130.48</td>\n",
              "      <td>130.54</td>\n",
              "      <td>127.07</td>\n",
              "      <td>127.82</td>\n",
              "      <td>96906490</td>\n",
              "      <td>130.48</td>\n",
              "      <td>130.54</td>\n",
              "      <td>127.07</td>\n",
              "      <td>127.82</td>\n",
              "      <td>96906490</td>\n",
              "      <td>0.0</td>\n",
              "      <td>1.0</td>\n",
              "    </tr>\n",
              "    <tr>\n",
              "      <th>2021-06-15 00:00:00+00:00</th>\n",
              "      <td>129.64</td>\n",
              "      <td>130.60</td>\n",
              "      <td>129.39</td>\n",
              "      <td>129.94</td>\n",
              "      <td>62746332</td>\n",
              "      <td>129.64</td>\n",
              "      <td>130.60</td>\n",
              "      <td>129.39</td>\n",
              "      <td>129.94</td>\n",
              "      <td>62746332</td>\n",
              "      <td>0.0</td>\n",
              "      <td>1.0</td>\n",
              "    </tr>\n",
              "  </tbody>\n",
              "</table>\n",
              "</div>"
            ],
            "text/plain": [
              "                                   close    high  ...  divCash  splitFactor\n",
              "symbol date                                       ...                      \n",
              "AAPL   2021-06-09 00:00:00+00:00  127.13  127.75  ...      0.0          1.0\n",
              "       2021-06-10 00:00:00+00:00  126.11  128.19  ...      0.0          1.0\n",
              "       2021-06-11 00:00:00+00:00  127.35  127.44  ...      0.0          1.0\n",
              "       2021-06-14 00:00:00+00:00  130.48  130.54  ...      0.0          1.0\n",
              "       2021-06-15 00:00:00+00:00  129.64  130.60  ...      0.0          1.0\n",
              "\n",
              "[5 rows x 12 columns]"
            ]
          },
          "metadata": {
            "tags": []
          },
          "execution_count": 4
        }
      ]
    },
    {
      "cell_type": "code",
      "metadata": {
        "id": "DBcR9L8dtRfn"
      },
      "source": [
        "import pandas as pd"
      ],
      "execution_count": 5,
      "outputs": []
    },
    {
      "cell_type": "code",
      "metadata": {
        "id": "321HKB72tsqu"
      },
      "source": [
        "df1 = df.reset_index()['close']"
      ],
      "execution_count": 6,
      "outputs": []
    },
    {
      "cell_type": "code",
      "metadata": {
        "colab": {
          "base_uri": "https://localhost:8080/"
        },
        "id": "78gYDHBwuHfg",
        "outputId": "164060db-a002-4693-c9a1-e666a3700181"
      },
      "source": [
        "df1.head()"
      ],
      "execution_count": 7,
      "outputs": [
        {
          "output_type": "execute_result",
          "data": {
            "text/plain": [
              "0    95.33\n",
              "1    95.10\n",
              "2    95.91\n",
              "3    95.55\n",
              "4    96.10\n",
              "Name: close, dtype: float64"
            ]
          },
          "metadata": {
            "tags": []
          },
          "execution_count": 7
        }
      ]
    },
    {
      "cell_type": "code",
      "metadata": {
        "colab": {
          "base_uri": "https://localhost:8080/"
        },
        "id": "fMZ3y2mVuKe1",
        "outputId": "60ec9147-351b-4a22-c0c4-3c8e83d34dce"
      },
      "source": [
        "len(df1)"
      ],
      "execution_count": 8,
      "outputs": [
        {
          "output_type": "execute_result",
          "data": {
            "text/plain": [
              "1257"
            ]
          },
          "metadata": {
            "tags": []
          },
          "execution_count": 8
        }
      ]
    },
    {
      "cell_type": "code",
      "metadata": {
        "id": "gYnTTMF1uNjy"
      },
      "source": [
        "import matplotlib.pyplot as plt"
      ],
      "execution_count": 9,
      "outputs": []
    },
    {
      "cell_type": "code",
      "metadata": {
        "colab": {
          "base_uri": "https://localhost:8080/",
          "height": 282
        },
        "id": "a4MD1Z1uuSZz",
        "outputId": "4adea752-3b5b-45c9-ab04-4c756083fbad"
      },
      "source": [
        "plt.plot(df1)"
      ],
      "execution_count": 10,
      "outputs": [
        {
          "output_type": "execute_result",
          "data": {
            "text/plain": [
              "[<matplotlib.lines.Line2D at 0x7fb6f9b5c5d0>]"
            ]
          },
          "metadata": {
            "tags": []
          },
          "execution_count": 10
        },
        {
          "output_type": "display_data",
          "data": {
            "image/png": "[encoded data removed]",
            "text/plain": [
              "<Figure size 432x288 with 1 Axes>"
            ]
          },
          "metadata": {
            "tags": [],
            "needs_background": "light"
          }
        }
      ]
    },
    {
      "cell_type": "markdown",
      "metadata": {
        "id": "iFb8fkz0uaM_"
      },
      "source": [
        "LSTM is sensitive to scale of data, so we apply MinMax Scaler"
      ]
    },
    {
      "cell_type": "code",
      "metadata": {
        "id": "FstlHRnluVT7"
      },
      "source": [
        "import numpy as np"
      ],
      "execution_count": 11,
      "outputs": []
    },
    {
      "cell_type": "code",
      "metadata": {
        "id": "DDVIfLROuiPc"
      },
      "source": [
        "from sklearn.preprocessing import MinMaxScaler"
      ],
      "execution_count": 12,
      "outputs": []
    },
    {
      "cell_type": "code",
      "metadata": {
        "id": "i7ZCPJu9ul3m"
      },
      "source": [
        "scaler = MinMaxScaler(feature_range=(0, 1))"
      ],
      "execution_count": 13,
      "outputs": []
    },
    {
      "cell_type": "code",
      "metadata": {
        "id": "1nS8WqIoup9m"
      },
      "source": [
        "df1 = scaler.fit_transform(np.array(df1).reshape(-1, 1))"
      ],
      "execution_count": 14,
      "outputs": []
    },
    {
      "cell_type": "code",
      "metadata": {
        "colab": {
          "base_uri": "https://localhost:8080/"
        },
        "id": "tyXbtV--uy4g",
        "outputId": "584ba1da-18d6-4a35-a481-3a60966b2432"
      },
      "source": [
        "df1.shape"
      ],
      "execution_count": 15,
      "outputs": [
        {
          "output_type": "execute_result",
          "data": {
            "text/plain": [
              "(1257, 1)"
            ]
          },
          "metadata": {
            "tags": []
          },
          "execution_count": 15
        }
      ]
    },
    {
      "cell_type": "code",
      "metadata": {
        "id": "koP0gsMKu0RR"
      },
      "source": [
        " training_size = int(len(df1) * 0.65)\n",
        " test_size = len(df1) - training_size\n",
        " train_data, test_data = df1[0:training_size, :], df1[training_size:len(df1), :1]"
      ],
      "execution_count": 16,
      "outputs": []
    },
    {
      "cell_type": "code",
      "metadata": {
        "id": "4JnuCrECwDT_"
      },
      "source": [
        "import numpy as np\n",
        "\n",
        "def create_dataset(dataset, time_step = 1):\n",
        "  dataX, dataY = [], []\n",
        "  for i in range(len(dataset) - time_step -1):\n",
        "    a = dataset[i:(i + time_step), 0]\n",
        "    dataX.append(a)\n",
        "    dataY.append(dataset[i + time_step, 0])\n",
        "  \n",
        "  return np.array(dataX), np.array(dataY)"
      ],
      "execution_count": 17,
      "outputs": []
    },
    {
      "cell_type": "code",
      "metadata": {
        "id": "CACj-v5myE01"
      },
      "source": [
        "time_step = 100\n",
        "X_train, y_train = create_dataset(train_data, time_step)\n",
        "X_test, y_test = create_dataset(test_data, time_step)"
      ],
      "execution_count": 18,
      "outputs": []
    },
    {
      "cell_type": "code",
      "metadata": {
        "colab": {
          "base_uri": "https://localhost:8080/"
        },
        "id": "edTg1QdPygUG",
        "outputId": "a416c061-543c-4e18-a6d4-f7a114dba6b7"
      },
      "source": [
        "print(X_test.shape), print(y_test.shape)"
      ],
      "execution_count": 19,
      "outputs": [
        {
          "output_type": "stream",
          "text": [
            "(339, 100)\n",
            "(339,)\n"
          ],
          "name": "stdout"
        },
        {
          "output_type": "execute_result",
          "data": {
            "text/plain": [
              "(None, None)"
            ]
          },
          "metadata": {
            "tags": []
          },
          "execution_count": 19
        }
      ]
    },
    {
      "cell_type": "markdown",
      "metadata": {
        "id": "pFC9yQHwzDOq"
      },
      "source": [
        "Before creating an LSTM model, we need to reshape our data"
      ]
    },
    {
      "cell_type": "code",
      "metadata": {
        "id": "wDdscommyheS"
      },
      "source": [
        "X_train = X_train.reshape(X_train.shape[0], X_train.shape[1], 1)\n",
        "X_test = X_test.reshape(X_test.shape[0], X_test.shape[1], 1)"
      ],
      "execution_count": 20,
      "outputs": []
    },
    {
      "cell_type": "markdown",
      "metadata": {
        "id": "12sMeeVkzdLZ"
      },
      "source": [
        "## Creating a stacked LSTM Model"
      ]
    },
    {
      "cell_type": "code",
      "metadata": {
        "id": "cHoptmx0zlWI"
      },
      "source": [
        "from tensorflow.keras.models import Sequential\n",
        "from tensorflow.keras.layers import Dense\n",
        "from tensorflow.keras.layers import LSTM"
      ],
      "execution_count": 21,
      "outputs": []
    },
    {
      "cell_type": "code",
      "metadata": {
        "id": "XoOZ2-FTzc3w"
      },
      "source": [
        "model = Sequential()\n",
        "model.add(LSTM(256, return_sequences=False, input_shape = (100, 1)))\n",
        "model.add(Dense(8))\n",
        "model.add(Dense(1))\n",
        "model.compile(loss = 'mean_squared_error', optimizer = 'adam', metrics = ['mae'])"
      ],
      "execution_count": 29,
      "outputs": []
    },
    {
      "cell_type": "code",
      "metadata": {
        "colab": {
          "base_uri": "https://localhost:8080/"
        },
        "id": "-K2JwF3szY1N",
        "outputId": "fad77618-874c-4227-f5de-48b45dcf0e14"
      },
      "source": [
        "model.summary()"
      ],
      "execution_count": 30,
      "outputs": [
        {
          "output_type": "stream",
          "text": [
            "Model: \"sequential_1\"\n",
            "_________________________________________________________________\n",
            "Layer (type)                 Output Shape              Param #   \n",
            "=================================================================\n",
            "lstm_1 (LSTM)                (None, 256)               264192    \n",
            "_________________________________________________________________\n",
            "dense_2 (Dense)              (None, 8)                 2056      \n",
            "_________________________________________________________________\n",
            "dense_3 (Dense)              (None, 1)                 9         \n",
            "=================================================================\n",
            "Total params: 266,257\n",
            "Trainable params: 266,257\n",
            "Non-trainable params: 0\n",
            "_________________________________________________________________\n"
          ],
          "name": "stdout"
        }
      ]
    },
    {
      "cell_type": "code",
      "metadata": {
        "colab": {
          "base_uri": "https://localhost:8080/"
        },
        "id": "YyvY4SdK0UgO",
        "outputId": "a36a9d2a-c251-4894-88fb-7fc06bc7ecb0"
      },
      "source": [
        "model.fit(X_train, y_train, validation_data = (X_test, y_test), epochs = 25, batch_size = 64, verbose = 2) "
      ],
      "execution_count": 32,
      "outputs": [
        {
          "output_type": "stream",
          "text": [
            "Epoch 1/25\n",
            "12/12 - 6s - loss: 6.9125e-04 - mae: 0.0215 - val_loss: 0.0127 - val_mae: 0.0706\n",
            "Epoch 2/25\n",
            "12/12 - 6s - loss: 4.8543e-04 - mae: 0.0174 - val_loss: 0.0081 - val_mae: 0.0471\n",
            "Epoch 3/25\n",
            "12/12 - 6s - loss: 2.0057e-04 - mae: 0.0110 - val_loss: 0.0076 - val_mae: 0.0329\n",
            "Epoch 4/25\n",
            "12/12 - 6s - loss: 1.4084e-04 - mae: 0.0089 - val_loss: 0.0077 - val_mae: 0.0272\n",
            "Epoch 5/25\n",
            "12/12 - 6s - loss: 1.3984e-04 - mae: 0.0087 - val_loss: 0.0077 - val_mae: 0.0263\n",
            "Epoch 6/25\n",
            "12/12 - 6s - loss: 1.4446e-04 - mae: 0.0089 - val_loss: 0.0074 - val_mae: 0.0275\n",
            "Epoch 7/25\n",
            "12/12 - 6s - loss: 1.2754e-04 - mae: 0.0081 - val_loss: 0.0072 - val_mae: 0.0283\n",
            "Epoch 8/25\n",
            "12/12 - 6s - loss: 1.2394e-04 - mae: 0.0081 - val_loss: 0.0072 - val_mae: 0.0271\n",
            "Epoch 9/25\n",
            "12/12 - 6s - loss: 1.2540e-04 - mae: 0.0081 - val_loss: 0.0070 - val_mae: 0.0284\n",
            "Epoch 10/25\n",
            "12/12 - 6s - loss: 1.2849e-04 - mae: 0.0082 - val_loss: 0.0069 - val_mae: 0.0285\n",
            "Epoch 11/25\n",
            "12/12 - 6s - loss: 1.2261e-04 - mae: 0.0080 - val_loss: 0.0069 - val_mae: 0.0275\n",
            "Epoch 12/25\n",
            "12/12 - 6s - loss: 1.1752e-04 - mae: 0.0079 - val_loss: 0.0069 - val_mae: 0.0258\n",
            "Epoch 13/25\n",
            "12/12 - 6s - loss: 1.1743e-04 - mae: 0.0079 - val_loss: 0.0068 - val_mae: 0.0256\n",
            "Epoch 14/25\n",
            "12/12 - 6s - loss: 1.1348e-04 - mae: 0.0077 - val_loss: 0.0070 - val_mae: 0.0248\n",
            "Epoch 15/25\n",
            "12/12 - 6s - loss: 1.2283e-04 - mae: 0.0080 - val_loss: 0.0067 - val_mae: 0.0258\n",
            "Epoch 16/25\n",
            "12/12 - 6s - loss: 1.1194e-04 - mae: 0.0077 - val_loss: 0.0065 - val_mae: 0.0277\n",
            "Epoch 17/25\n",
            "12/12 - 6s - loss: 1.1636e-04 - mae: 0.0079 - val_loss: 0.0065 - val_mae: 0.0252\n",
            "Epoch 18/25\n",
            "12/12 - 6s - loss: 1.0970e-04 - mae: 0.0076 - val_loss: 0.0064 - val_mae: 0.0254\n",
            "Epoch 19/25\n",
            "12/12 - 6s - loss: 1.1037e-04 - mae: 0.0076 - val_loss: 0.0064 - val_mae: 0.0251\n",
            "Epoch 20/25\n",
            "12/12 - 6s - loss: 1.1738e-04 - mae: 0.0080 - val_loss: 0.0064 - val_mae: 0.0240\n",
            "Epoch 21/25\n",
            "12/12 - 6s - loss: 1.0812e-04 - mae: 0.0075 - val_loss: 0.0063 - val_mae: 0.0239\n",
            "Epoch 22/25\n",
            "12/12 - 6s - loss: 1.0420e-04 - mae: 0.0073 - val_loss: 0.0062 - val_mae: 0.0250\n",
            "Epoch 23/25\n",
            "12/12 - 6s - loss: 1.2177e-04 - mae: 0.0082 - val_loss: 0.0060 - val_mae: 0.0262\n",
            "Epoch 24/25\n",
            "12/12 - 6s - loss: 1.0585e-04 - mae: 0.0075 - val_loss: 0.0061 - val_mae: 0.0234\n",
            "Epoch 25/25\n",
            "12/12 - 6s - loss: 1.0123e-04 - mae: 0.0073 - val_loss: 0.0061 - val_mae: 0.0231\n"
          ],
          "name": "stdout"
        },
        {
          "output_type": "execute_result",
          "data": {
            "text/plain": [
              "<tensorflow.python.keras.callbacks.History at 0x7fb6a6564390>"
            ]
          },
          "metadata": {
            "tags": []
          },
          "execution_count": 32
        }
      ]
    },
    {
      "cell_type": "markdown",
      "metadata": {
        "id": "ip0IX0Rj07Zi"
      },
      "source": [
        "## Prediction and checking performance metrics"
      ]
    },
    {
      "cell_type": "code",
      "metadata": {
        "id": "33woOF1b0nhr"
      },
      "source": [
        "train_predict = model.predict(X_train)\n",
        "test_predict = model.predict(X_test)"
      ],
      "execution_count": 33,
      "outputs": []
    },
    {
      "cell_type": "code",
      "metadata": {
        "colab": {
          "base_uri": "https://localhost:8080/"
        },
        "id": "tm41-74Pfh3H",
        "outputId": "3abf3faa-63cd-4a7e-991a-8f1b35efc0b9"
      },
      "source": [
        "train_predict.shape"
      ],
      "execution_count": 34,
      "outputs": [
        {
          "output_type": "execute_result",
          "data": {
            "text/plain": [
              "(716, 1)"
            ]
          },
          "metadata": {
            "tags": []
          },
          "execution_count": 34
        }
      ]
    },
    {
      "cell_type": "code",
      "metadata": {
        "id": "0QJOfE0K1JG7"
      },
      "source": [
        "train_predict = scaler.inverse_transform(train_predict)\n",
        "test_predict = scaler.inverse_transform(test_predict)"
      ],
      "execution_count": 35,
      "outputs": []
    },
    {
      "cell_type": "markdown",
      "metadata": {
        "id": "B7_vIXNa19gC"
      },
      "source": [
        "#### Calculate RMSE"
      ]
    },
    {
      "cell_type": "code",
      "metadata": {
        "colab": {
          "base_uri": "https://localhost:8080/"
        },
        "id": "t1KnRgx51arD",
        "outputId": "3ce5a379-ed4e-4810-ce0e-c4b428d93793"
      },
      "source": [
        "import math\n",
        "from sklearn.metrics import mean_squared_error\n",
        "math.sqrt(mean_squared_error(y_train, train_predict))"
      ],
      "execution_count": 36,
      "outputs": [
        {
          "output_type": "execute_result",
          "data": {
            "text/plain": [
              "174.1792686543401"
            ]
          },
          "metadata": {
            "tags": []
          },
          "execution_count": 36
        }
      ]
    },
    {
      "cell_type": "code",
      "metadata": {
        "colab": {
          "base_uri": "https://localhost:8080/"
        },
        "id": "x2dg7-8F2Vxu",
        "outputId": "a66e4e14-0ca4-494f-ee8b-481bf054dce6"
      },
      "source": [
        "math.sqrt(mean_squared_error(y_test, test_predict))"
      ],
      "execution_count": 37,
      "outputs": [
        {
          "output_type": "execute_result",
          "data": {
            "text/plain": [
              "241.78282959773244"
            ]
          },
          "metadata": {
            "tags": []
          },
          "execution_count": 37
        }
      ]
    },
    {
      "cell_type": "code",
      "metadata": {
        "colab": {
          "base_uri": "https://localhost:8080/",
          "height": 592
        },
        "id": "_c3q_7bD2bAB",
        "outputId": "66d2b1bd-b12f-4a73-e086-7391630159a2"
      },
      "source": [
        "look_back = 100\n",
        "# Shift train predictions for plotting\n",
        "trainPredictPlot = np.empty_like(df1)\n",
        "trainPredictPlot[:, :] = np.nan\n",
        "trainPredictPlot[look_back:len(train_predict) + look_back, :] = train_predict\n",
        "\n",
        "# Shift Test predictions for plotting\n",
        "testPredictPlot = np.empty_like(df1)\n",
        "testPredictPlot[:, :] = np.nan\n",
        "testPredictPlot[len(train_predict) + (look_back*2) + 1:len(df1) - 1, :] = test_predict\n",
        "\n",
        "# Plot baseline and predictions\n",
        "plt.figure(figsize=(18, 10))\n",
        "plt.plot(scaler.inverse_transform(df1))\n",
        "plt.plot(trainPredictPlot)\n",
        "plt.plot(testPredictPlot)\n",
        "plt.show()"
      ],
      "execution_count": 38,
      "outputs": [
        {
          "output_type": "display_data",
          "data": {
            "image/png": "[encoded data removed]",
            "text/plain": [
              "<Figure size 1296x720 with 1 Axes>"
            ]
          },
          "metadata": {
            "tags": [],
            "needs_background": "light"
          }
        }
      ]
    },
    {
      "cell_type": "code",
      "metadata": {
        "colab": {
          "base_uri": "https://localhost:8080/"
        },
        "id": "328Hw9VS6gjp",
        "outputId": "4da5b362-68e6-4a18-afd5-509d4e658f06"
      },
      "source": [
        "len(test_data)"
      ],
      "execution_count": null,
      "outputs": [
        {
          "output_type": "execute_result",
          "data": {
            "text/plain": [
              "440"
            ]
          },
          "metadata": {
            "tags": []
          },
          "execution_count": 51
        }
      ]
    },
    {
      "cell_type": "code",
      "metadata": {
        "colab": {
          "base_uri": "https://localhost:8080/"
        },
        "id": "dtc8cVSC4UWW",
        "outputId": "3434a568-f421-4590-bc7b-af139acd8f14"
      },
      "source": [
        "x_input=test_data[340:].reshape(1,-1)\n",
        "x_input.shape"
      ],
      "execution_count": null,
      "outputs": [
        {
          "output_type": "execute_result",
          "data": {
            "text/plain": [
              "(1, 100)"
            ]
          },
          "metadata": {
            "tags": []
          },
          "execution_count": 57
        }
      ]
    },
    {
      "cell_type": "code",
      "metadata": {
        "id": "YqrthMjN6dW9"
      },
      "source": [
        "temp_input=list(x_input)\n",
        "temp_input=temp_input[0].tolist()"
      ],
      "execution_count": null,
      "outputs": []
    },
    {
      "cell_type": "code",
      "metadata": {
        "colab": {
          "base_uri": "https://localhost:8080/"
        },
        "id": "a666iCHI6jh3",
        "outputId": "7c221eb1-ae7b-4b6f-a318-96567c9f6936"
      },
      "source": [
        "temp_input"
      ],
      "execution_count": null,
      "outputs": [
        {
          "output_type": "execute_result",
          "data": {
            "text/plain": [
              "[0.11358531578311795,\n",
              " 0.12288370969689646,\n",
              " 0.12346334983697618,\n",
              " 0.1208066658616109,\n",
              " 0.10880328462746044,\n",
              " 0.09641347663325686,\n",
              " 0.10167854123898076,\n",
              " 0.10373143340176308,\n",
              " 0.10119550778891437,\n",
              " 0.10952783480256004,\n",
              " 0.10800627943485083,\n",
              " 0.10836855452240066,\n",
              " 0.10619490399710177,\n",
              " 0.10469750030189587,\n",
              " 0.10406955681680954,\n",
              " 0.10464919695688926,\n",
              " 0.0993841323511653,\n",
              " 0.09370848931288492,\n",
              " 0.09097935032000967,\n",
              " 0.0913657770800628,\n",
              " 0.08201907982127762,\n",
              " 0.0816809564062311,\n",
              " 0.08044922110856176,\n",
              " 0.06991909189711384,\n",
              " 0.07057118705470353,\n",
              " 0.0863422291993721,\n",
              " 0.0798937326409854,\n",
              " 0.07250332085496922,\n",
              " 0.06784204806182828,\n",
              " 0.07095761381475665,\n",
              " 0.0587368675280763,\n",
              " 0.07014853278589542,\n",
              " 0.06747977297427846,\n",
              " 0.07226180412993596,\n",
              " 0.07001569858712717,\n",
              " 0.0771645936481101,\n",
              " 0.08098055790363481,\n",
              " 0.07902427243086582,\n",
              " 0.06880811496196113,\n",
              " 0.06750392464678176,\n",
              " 0.07571549329791086,\n",
              " 0.0736626011351286,\n",
              " 0.06774544137181501,\n",
              " 0.06895302499698105,\n",
              " 0.0704504286921869,\n",
              " 0.07088515879724669,\n",
              " 0.06728655959425192,\n",
              " 0.07272068590749911,\n",
              " 0.07477357807028137,\n",
              " 0.08177756309624443,\n",
              " 0.08252626494384732,\n",
              " 0.0866078975969086,\n",
              " 0.09254920903272554,\n",
              " 0.09891317473735059,\n",
              " 0.09467455621301776,\n",
              " 0.10237893974157711,\n",
              " 0.0965825383407801,\n",
              " 0.10254800144910034,\n",
              " 0.10172684458398742,\n",
              " 0.10336915831421326,\n",
              " 0.09919091897113877,\n",
              " 0.10013283419876826,\n",
              " 0.0963651732882502,\n",
              " 0.10211327134404055,\n",
              " 0.1030793382441734,\n",
              " 0.10228233305156378,\n",
              " 0.10032604757879485,\n",
              " 0.1000845308537616,\n",
              " 0.09520589300809082,\n",
              " 0.09781427363844944,\n",
              " 0.08648713923439197,\n",
              " 0.08709093104697499,\n",
              " 0.09105180533751964,\n",
              " 0.09218693394517571,\n",
              " 0.08407197198405988,\n",
              " 0.08180171476874773,\n",
              " 0.07421808960270496,\n",
              " 0.07953145755343557,\n",
              " 0.08552107233425918,\n",
              " 0.08267117497886725,\n",
              " 0.07924163748339572,\n",
              " 0.07885521072334259,\n",
              " 0.08518294891921266,\n",
              " 0.08064243448858835,\n",
              " 0.0846757637966429,\n",
              " 0.08419273034657651,\n",
              " 0.08407197198405988,\n",
              " 0.08028015940103853,\n",
              " 0.078661997343316,\n",
              " 0.07786499215070644,\n",
              " 0.07974882260596547,\n",
              " 0.07607776838546068,\n",
              " 0.08175341142374107,\n",
              " 0.08177756309624443,\n",
              " 0.08380630358652333,\n",
              " 0.08474821881415287,\n",
              " 0.08228474821881412,\n",
              " 0.08527955560922593,\n",
              " 0.09283902910276534,\n",
              " 0.09081028861248638]"
            ]
          },
          "metadata": {
            "tags": []
          },
          "execution_count": 59
        }
      ]
    },
    {
      "cell_type": "code",
      "metadata": {
        "colab": {
          "base_uri": "https://localhost:8080/"
        },
        "id": "yg9XwkkU6lTt",
        "outputId": "337e3f1f-91aa-4dbd-e0bc-3ffd14b0d934"
      },
      "source": [
        "# demonstrate prediction for next 10 days\n",
        "from numpy import array\n",
        "\n",
        "lst_output=[]\n",
        "n_steps=100\n",
        "i=0\n",
        "while(i<30):\n",
        "    \n",
        "    if(len(temp_input)>100):\n",
        "\n",
        "        # print(temp_input)\n",
        "        x_input=np.array(temp_input[1:])\n",
        "        print(\"{} day input {}\".format(i,x_input))\n",
        "        x_input=x_input.reshape(1,-1)\n",
        "        x_input = x_input.reshape((1, n_steps, 1))\n",
        "        #print(x_input)\n",
        "        yhat = model.predict(x_input, verbose=0)\n",
        "        print(\"{} day output {}\".format(i,yhat))\n",
        "        temp_input.extend(yhat[0].tolist())\n",
        "        temp_input=temp_input[1:]\n",
        "        #print(temp_input)\n",
        "        lst_output.extend(yhat.tolist())\n",
        "        i=i+1\n",
        "    else:\n",
        "        x_input = x_input.reshape((1, n_steps,1))\n",
        "        yhat = model.predict(x_input, verbose=0)\n",
        "        print(yhat[0])\n",
        "        temp_input.extend(yhat[0].tolist())\n",
        "        print(len(temp_input))\n",
        "        lst_output.extend(yhat.tolist())\n",
        "        i=i+1\n",
        "    \n",
        "\n",
        "print(lst_output)"
      ],
      "execution_count": null,
      "outputs": [
        {
          "output_type": "stream",
          "text": [
            "[0.08778268]\n",
            "101\n",
            "1 day input [0.12288371 0.12346335 0.12080667 0.10880328 0.09641348 0.10167854\n",
            " 0.10373143 0.10119551 0.10952783 0.10800628 0.10836855 0.1061949\n",
            " 0.1046975  0.10406956 0.1046492  0.09938413 0.09370849 0.09097935\n",
            " 0.09136578 0.08201908 0.08168096 0.08044922 0.06991909 0.07057119\n",
            " 0.08634223 0.07989373 0.07250332 0.06784205 0.07095761 0.05873687\n",
            " 0.07014853 0.06747977 0.0722618  0.0700157  0.07716459 0.08098056\n",
            " 0.07902427 0.06880811 0.06750392 0.07571549 0.0736626  0.06774544\n",
            " 0.06895302 0.07045043 0.07088516 0.06728656 0.07272069 0.07477358\n",
            " 0.08177756 0.08252626 0.0866079  0.09254921 0.09891317 0.09467456\n",
            " 0.10237894 0.09658254 0.102548   0.10172684 0.10336916 0.09919092\n",
            " 0.10013283 0.09636517 0.10211327 0.10307934 0.10228233 0.10032605\n",
            " 0.10008453 0.09520589 0.09781427 0.08648714 0.08709093 0.09105181\n",
            " 0.09218693 0.08407197 0.08180171 0.07421809 0.07953146 0.08552107\n",
            " 0.08267117 0.07924164 0.07885521 0.08518295 0.08064243 0.08467576\n",
            " 0.08419273 0.08407197 0.08028016 0.078662   0.07786499 0.07974882\n",
            " 0.07607777 0.08175341 0.08177756 0.0838063  0.08474822 0.08228475\n",
            " 0.08527956 0.09283903 0.09081029 0.08778268]\n",
            "1 day output [[0.08910325]]\n",
            "2 day input [0.12346335 0.12080667 0.10880328 0.09641348 0.10167854 0.10373143\n",
            " 0.10119551 0.10952783 0.10800628 0.10836855 0.1061949  0.1046975\n",
            " 0.10406956 0.1046492  0.09938413 0.09370849 0.09097935 0.09136578\n",
            " 0.08201908 0.08168096 0.08044922 0.06991909 0.07057119 0.08634223\n",
            " 0.07989373 0.07250332 0.06784205 0.07095761 0.05873687 0.07014853\n",
            " 0.06747977 0.0722618  0.0700157  0.07716459 0.08098056 0.07902427\n",
            " 0.06880811 0.06750392 0.07571549 0.0736626  0.06774544 0.06895302\n",
            " 0.07045043 0.07088516 0.06728656 0.07272069 0.07477358 0.08177756\n",
            " 0.08252626 0.0866079  0.09254921 0.09891317 0.09467456 0.10237894\n",
            " 0.09658254 0.102548   0.10172684 0.10336916 0.09919092 0.10013283\n",
            " 0.09636517 0.10211327 0.10307934 0.10228233 0.10032605 0.10008453\n",
            " 0.09520589 0.09781427 0.08648714 0.08709093 0.09105181 0.09218693\n",
            " 0.08407197 0.08180171 0.07421809 0.07953146 0.08552107 0.08267117\n",
            " 0.07924164 0.07885521 0.08518295 0.08064243 0.08467576 0.08419273\n",
            " 0.08407197 0.08028016 0.078662   0.07786499 0.07974882 0.07607777\n",
            " 0.08175341 0.08177756 0.0838063  0.08474822 0.08228475 0.08527956\n",
            " 0.09283903 0.09081029 0.08778268 0.08910325]\n",
            "2 day output [[0.09015155]]\n",
            "3 day input [0.12080667 0.10880328 0.09641348 0.10167854 0.10373143 0.10119551\n",
            " 0.10952783 0.10800628 0.10836855 0.1061949  0.1046975  0.10406956\n",
            " 0.1046492  0.09938413 0.09370849 0.09097935 0.09136578 0.08201908\n",
            " 0.08168096 0.08044922 0.06991909 0.07057119 0.08634223 0.07989373\n",
            " 0.07250332 0.06784205 0.07095761 0.05873687 0.07014853 0.06747977\n",
            " 0.0722618  0.0700157  0.07716459 0.08098056 0.07902427 0.06880811\n",
            " 0.06750392 0.07571549 0.0736626  0.06774544 0.06895302 0.07045043\n",
            " 0.07088516 0.06728656 0.07272069 0.07477358 0.08177756 0.08252626\n",
            " 0.0866079  0.09254921 0.09891317 0.09467456 0.10237894 0.09658254\n",
            " 0.102548   0.10172684 0.10336916 0.09919092 0.10013283 0.09636517\n",
            " 0.10211327 0.10307934 0.10228233 0.10032605 0.10008453 0.09520589\n",
            " 0.09781427 0.08648714 0.08709093 0.09105181 0.09218693 0.08407197\n",
            " 0.08180171 0.07421809 0.07953146 0.08552107 0.08267117 0.07924164\n",
            " 0.07885521 0.08518295 0.08064243 0.08467576 0.08419273 0.08407197\n",
            " 0.08028016 0.078662   0.07786499 0.07974882 0.07607777 0.08175341\n",
            " 0.08177756 0.0838063  0.08474822 0.08228475 0.08527956 0.09283903\n",
            " 0.09081029 0.08778268 0.08910325 0.09015155]\n",
            "3 day output [[0.09095645]]\n",
            "4 day input [0.10880328 0.09641348 0.10167854 0.10373143 0.10119551 0.10952783\n",
            " 0.10800628 0.10836855 0.1061949  0.1046975  0.10406956 0.1046492\n",
            " 0.09938413 0.09370849 0.09097935 0.09136578 0.08201908 0.08168096\n",
            " 0.08044922 0.06991909 0.07057119 0.08634223 0.07989373 0.07250332\n",
            " 0.06784205 0.07095761 0.05873687 0.07014853 0.06747977 0.0722618\n",
            " 0.0700157  0.07716459 0.08098056 0.07902427 0.06880811 0.06750392\n",
            " 0.07571549 0.0736626  0.06774544 0.06895302 0.07045043 0.07088516\n",
            " 0.06728656 0.07272069 0.07477358 0.08177756 0.08252626 0.0866079\n",
            " 0.09254921 0.09891317 0.09467456 0.10237894 0.09658254 0.102548\n",
            " 0.10172684 0.10336916 0.09919092 0.10013283 0.09636517 0.10211327\n",
            " 0.10307934 0.10228233 0.10032605 0.10008453 0.09520589 0.09781427\n",
            " 0.08648714 0.08709093 0.09105181 0.09218693 0.08407197 0.08180171\n",
            " 0.07421809 0.07953146 0.08552107 0.08267117 0.07924164 0.07885521\n",
            " 0.08518295 0.08064243 0.08467576 0.08419273 0.08407197 0.08028016\n",
            " 0.078662   0.07786499 0.07974882 0.07607777 0.08175341 0.08177756\n",
            " 0.0838063  0.08474822 0.08228475 0.08527956 0.09283903 0.09081029\n",
            " 0.08778268 0.08910325 0.09015155 0.09095645]\n",
            "4 day output [[0.09158915]]\n",
            "5 day input [0.09641348 0.10167854 0.10373143 0.10119551 0.10952783 0.10800628\n",
            " 0.10836855 0.1061949  0.1046975  0.10406956 0.1046492  0.09938413\n",
            " 0.09370849 0.09097935 0.09136578 0.08201908 0.08168096 0.08044922\n",
            " 0.06991909 0.07057119 0.08634223 0.07989373 0.07250332 0.06784205\n",
            " 0.07095761 0.05873687 0.07014853 0.06747977 0.0722618  0.0700157\n",
            " 0.07716459 0.08098056 0.07902427 0.06880811 0.06750392 0.07571549\n",
            " 0.0736626  0.06774544 0.06895302 0.07045043 0.07088516 0.06728656\n",
            " 0.07272069 0.07477358 0.08177756 0.08252626 0.0866079  0.09254921\n",
            " 0.09891317 0.09467456 0.10237894 0.09658254 0.102548   0.10172684\n",
            " 0.10336916 0.09919092 0.10013283 0.09636517 0.10211327 0.10307934\n",
            " 0.10228233 0.10032605 0.10008453 0.09520589 0.09781427 0.08648714\n",
            " 0.08709093 0.09105181 0.09218693 0.08407197 0.08180171 0.07421809\n",
            " 0.07953146 0.08552107 0.08267117 0.07924164 0.07885521 0.08518295\n",
            " 0.08064243 0.08467576 0.08419273 0.08407197 0.08028016 0.078662\n",
            " 0.07786499 0.07974882 0.07607777 0.08175341 0.08177756 0.0838063\n",
            " 0.08474822 0.08228475 0.08527956 0.09283903 0.09081029 0.08778268\n",
            " 0.08910325 0.09015155 0.09095645 0.09158915]\n",
            "5 day output [[0.09211807]]\n",
            "6 day input [0.10167854 0.10373143 0.10119551 0.10952783 0.10800628 0.10836855\n",
            " 0.1061949  0.1046975  0.10406956 0.1046492  0.09938413 0.09370849\n",
            " 0.09097935 0.09136578 0.08201908 0.08168096 0.08044922 0.06991909\n",
            " 0.07057119 0.08634223 0.07989373 0.07250332 0.06784205 0.07095761\n",
            " 0.05873687 0.07014853 0.06747977 0.0722618  0.0700157  0.07716459\n",
            " 0.08098056 0.07902427 0.06880811 0.06750392 0.07571549 0.0736626\n",
            " 0.06774544 0.06895302 0.07045043 0.07088516 0.06728656 0.07272069\n",
            " 0.07477358 0.08177756 0.08252626 0.0866079  0.09254921 0.09891317\n",
            " 0.09467456 0.10237894 0.09658254 0.102548   0.10172684 0.10336916\n",
            " 0.09919092 0.10013283 0.09636517 0.10211327 0.10307934 0.10228233\n",
            " 0.10032605 0.10008453 0.09520589 0.09781427 0.08648714 0.08709093\n",
            " 0.09105181 0.09218693 0.08407197 0.08180171 0.07421809 0.07953146\n",
            " 0.08552107 0.08267117 0.07924164 0.07885521 0.08518295 0.08064243\n",
            " 0.08467576 0.08419273 0.08407197 0.08028016 0.078662   0.07786499\n",
            " 0.07974882 0.07607777 0.08175341 0.08177756 0.0838063  0.08474822\n",
            " 0.08228475 0.08527956 0.09283903 0.09081029 0.08778268 0.08910325\n",
            " 0.09015155 0.09095645 0.09158915 0.09211807]\n",
            "6 day output [[0.09259334]]\n",
            "7 day input [0.10373143 0.10119551 0.10952783 0.10800628 0.10836855 0.1061949\n",
            " 0.1046975  0.10406956 0.1046492  0.09938413 0.09370849 0.09097935\n",
            " 0.09136578 0.08201908 0.08168096 0.08044922 0.06991909 0.07057119\n",
            " 0.08634223 0.07989373 0.07250332 0.06784205 0.07095761 0.05873687\n",
            " 0.07014853 0.06747977 0.0722618  0.0700157  0.07716459 0.08098056\n",
            " 0.07902427 0.06880811 0.06750392 0.07571549 0.0736626  0.06774544\n",
            " 0.06895302 0.07045043 0.07088516 0.06728656 0.07272069 0.07477358\n",
            " 0.08177756 0.08252626 0.0866079  0.09254921 0.09891317 0.09467456\n",
            " 0.10237894 0.09658254 0.102548   0.10172684 0.10336916 0.09919092\n",
            " 0.10013283 0.09636517 0.10211327 0.10307934 0.10228233 0.10032605\n",
            " 0.10008453 0.09520589 0.09781427 0.08648714 0.08709093 0.09105181\n",
            " 0.09218693 0.08407197 0.08180171 0.07421809 0.07953146 0.08552107\n",
            " 0.08267117 0.07924164 0.07885521 0.08518295 0.08064243 0.08467576\n",
            " 0.08419273 0.08407197 0.08028016 0.078662   0.07786499 0.07974882\n",
            " 0.07607777 0.08175341 0.08177756 0.0838063  0.08474822 0.08228475\n",
            " 0.08527956 0.09283903 0.09081029 0.08778268 0.08910325 0.09015155\n",
            " 0.09095645 0.09158915 0.09211807 0.09259334]\n",
            "7 day output [[0.09304653]]\n",
            "8 day input [0.10119551 0.10952783 0.10800628 0.10836855 0.1061949  0.1046975\n",
            " 0.10406956 0.1046492  0.09938413 0.09370849 0.09097935 0.09136578\n",
            " 0.08201908 0.08168096 0.08044922 0.06991909 0.07057119 0.08634223\n",
            " 0.07989373 0.07250332 0.06784205 0.07095761 0.05873687 0.07014853\n",
            " 0.06747977 0.0722618  0.0700157  0.07716459 0.08098056 0.07902427\n",
            " 0.06880811 0.06750392 0.07571549 0.0736626  0.06774544 0.06895302\n",
            " 0.07045043 0.07088516 0.06728656 0.07272069 0.07477358 0.08177756\n",
            " 0.08252626 0.0866079  0.09254921 0.09891317 0.09467456 0.10237894\n",
            " 0.09658254 0.102548   0.10172684 0.10336916 0.09919092 0.10013283\n",
            " 0.09636517 0.10211327 0.10307934 0.10228233 0.10032605 0.10008453\n",
            " 0.09520589 0.09781427 0.08648714 0.08709093 0.09105181 0.09218693\n",
            " 0.08407197 0.08180171 0.07421809 0.07953146 0.08552107 0.08267117\n",
            " 0.07924164 0.07885521 0.08518295 0.08064243 0.08467576 0.08419273\n",
            " 0.08407197 0.08028016 0.078662   0.07786499 0.07974882 0.07607777\n",
            " 0.08175341 0.08177756 0.0838063  0.08474822 0.08228475 0.08527956\n",
            " 0.09283903 0.09081029 0.08778268 0.08910325 0.09015155 0.09095645\n",
            " 0.09158915 0.09211807 0.09259334 0.09304653]\n",
            "8 day output [[0.0934951]]\n",
            "9 day input [0.10952783 0.10800628 0.10836855 0.1061949  0.1046975  0.10406956\n",
            " 0.1046492  0.09938413 0.09370849 0.09097935 0.09136578 0.08201908\n",
            " 0.08168096 0.08044922 0.06991909 0.07057119 0.08634223 0.07989373\n",
            " 0.07250332 0.06784205 0.07095761 0.05873687 0.07014853 0.06747977\n",
            " 0.0722618  0.0700157  0.07716459 0.08098056 0.07902427 0.06880811\n",
            " 0.06750392 0.07571549 0.0736626  0.06774544 0.06895302 0.07045043\n",
            " 0.07088516 0.06728656 0.07272069 0.07477358 0.08177756 0.08252626\n",
            " 0.0866079  0.09254921 0.09891317 0.09467456 0.10237894 0.09658254\n",
            " 0.102548   0.10172684 0.10336916 0.09919092 0.10013283 0.09636517\n",
            " 0.10211327 0.10307934 0.10228233 0.10032605 0.10008453 0.09520589\n",
            " 0.09781427 0.08648714 0.08709093 0.09105181 0.09218693 0.08407197\n",
            " 0.08180171 0.07421809 0.07953146 0.08552107 0.08267117 0.07924164\n",
            " 0.07885521 0.08518295 0.08064243 0.08467576 0.08419273 0.08407197\n",
            " 0.08028016 0.078662   0.07786499 0.07974882 0.07607777 0.08175341\n",
            " 0.08177756 0.0838063  0.08474822 0.08228475 0.08527956 0.09283903\n",
            " 0.09081029 0.08778268 0.08910325 0.09015155 0.09095645 0.09158915\n",
            " 0.09211807 0.09259334 0.09304653 0.0934951 ]\n",
            "9 day output [[0.09394784]]\n",
            "10 day input [0.10800628 0.10836855 0.1061949  0.1046975  0.10406956 0.1046492\n",
            " 0.09938413 0.09370849 0.09097935 0.09136578 0.08201908 0.08168096\n",
            " 0.08044922 0.06991909 0.07057119 0.08634223 0.07989373 0.07250332\n",
            " 0.06784205 0.07095761 0.05873687 0.07014853 0.06747977 0.0722618\n",
            " 0.0700157  0.07716459 0.08098056 0.07902427 0.06880811 0.06750392\n",
            " 0.07571549 0.0736626  0.06774544 0.06895302 0.07045043 0.07088516\n",
            " 0.06728656 0.07272069 0.07477358 0.08177756 0.08252626 0.0866079\n",
            " 0.09254921 0.09891317 0.09467456 0.10237894 0.09658254 0.102548\n",
            " 0.10172684 0.10336916 0.09919092 0.10013283 0.09636517 0.10211327\n",
            " 0.10307934 0.10228233 0.10032605 0.10008453 0.09520589 0.09781427\n",
            " 0.08648714 0.08709093 0.09105181 0.09218693 0.08407197 0.08180171\n",
            " 0.07421809 0.07953146 0.08552107 0.08267117 0.07924164 0.07885521\n",
            " 0.08518295 0.08064243 0.08467576 0.08419273 0.08407197 0.08028016\n",
            " 0.078662   0.07786499 0.07974882 0.07607777 0.08175341 0.08177756\n",
            " 0.0838063  0.08474822 0.08228475 0.08527956 0.09283903 0.09081029\n",
            " 0.08778268 0.08910325 0.09015155 0.09095645 0.09158915 0.09211807\n",
            " 0.09259334 0.09304653 0.0934951  0.09394784]\n",
            "10 day output [[0.09440881]]\n",
            "11 day input [0.10836855 0.1061949  0.1046975  0.10406956 0.1046492  0.09938413\n",
            " 0.09370849 0.09097935 0.09136578 0.08201908 0.08168096 0.08044922\n",
            " 0.06991909 0.07057119 0.08634223 0.07989373 0.07250332 0.06784205\n",
            " 0.07095761 0.05873687 0.07014853 0.06747977 0.0722618  0.0700157\n",
            " 0.07716459 0.08098056 0.07902427 0.06880811 0.06750392 0.07571549\n",
            " 0.0736626  0.06774544 0.06895302 0.07045043 0.07088516 0.06728656\n",
            " 0.07272069 0.07477358 0.08177756 0.08252626 0.0866079  0.09254921\n",
            " 0.09891317 0.09467456 0.10237894 0.09658254 0.102548   0.10172684\n",
            " 0.10336916 0.09919092 0.10013283 0.09636517 0.10211327 0.10307934\n",
            " 0.10228233 0.10032605 0.10008453 0.09520589 0.09781427 0.08648714\n",
            " 0.08709093 0.09105181 0.09218693 0.08407197 0.08180171 0.07421809\n",
            " 0.07953146 0.08552107 0.08267117 0.07924164 0.07885521 0.08518295\n",
            " 0.08064243 0.08467576 0.08419273 0.08407197 0.08028016 0.078662\n",
            " 0.07786499 0.07974882 0.07607777 0.08175341 0.08177756 0.0838063\n",
            " 0.08474822 0.08228475 0.08527956 0.09283903 0.09081029 0.08778268\n",
            " 0.08910325 0.09015155 0.09095645 0.09158915 0.09211807 0.09259334\n",
            " 0.09304653 0.0934951  0.09394784 0.09440881]\n",
            "11 day output [[0.09487964]]\n",
            "12 day input [0.1061949  0.1046975  0.10406956 0.1046492  0.09938413 0.09370849\n",
            " 0.09097935 0.09136578 0.08201908 0.08168096 0.08044922 0.06991909\n",
            " 0.07057119 0.08634223 0.07989373 0.07250332 0.06784205 0.07095761\n",
            " 0.05873687 0.07014853 0.06747977 0.0722618  0.0700157  0.07716459\n",
            " 0.08098056 0.07902427 0.06880811 0.06750392 0.07571549 0.0736626\n",
            " 0.06774544 0.06895302 0.07045043 0.07088516 0.06728656 0.07272069\n",
            " 0.07477358 0.08177756 0.08252626 0.0866079  0.09254921 0.09891317\n",
            " 0.09467456 0.10237894 0.09658254 0.102548   0.10172684 0.10336916\n",
            " 0.09919092 0.10013283 0.09636517 0.10211327 0.10307934 0.10228233\n",
            " 0.10032605 0.10008453 0.09520589 0.09781427 0.08648714 0.08709093\n",
            " 0.09105181 0.09218693 0.08407197 0.08180171 0.07421809 0.07953146\n",
            " 0.08552107 0.08267117 0.07924164 0.07885521 0.08518295 0.08064243\n",
            " 0.08467576 0.08419273 0.08407197 0.08028016 0.078662   0.07786499\n",
            " 0.07974882 0.07607777 0.08175341 0.08177756 0.0838063  0.08474822\n",
            " 0.08228475 0.08527956 0.09283903 0.09081029 0.08778268 0.08910325\n",
            " 0.09015155 0.09095645 0.09158915 0.09211807 0.09259334 0.09304653\n",
            " 0.0934951  0.09394784 0.09440881 0.09487964]\n",
            "12 day output [[0.09536099]]\n",
            "13 day input [0.1046975  0.10406956 0.1046492  0.09938413 0.09370849 0.09097935\n",
            " 0.09136578 0.08201908 0.08168096 0.08044922 0.06991909 0.07057119\n",
            " 0.08634223 0.07989373 0.07250332 0.06784205 0.07095761 0.05873687\n",
            " 0.07014853 0.06747977 0.0722618  0.0700157  0.07716459 0.08098056\n",
            " 0.07902427 0.06880811 0.06750392 0.07571549 0.0736626  0.06774544\n",
            " 0.06895302 0.07045043 0.07088516 0.06728656 0.07272069 0.07477358\n",
            " 0.08177756 0.08252626 0.0866079  0.09254921 0.09891317 0.09467456\n",
            " 0.10237894 0.09658254 0.102548   0.10172684 0.10336916 0.09919092\n",
            " 0.10013283 0.09636517 0.10211327 0.10307934 0.10228233 0.10032605\n",
            " 0.10008453 0.09520589 0.09781427 0.08648714 0.08709093 0.09105181\n",
            " 0.09218693 0.08407197 0.08180171 0.07421809 0.07953146 0.08552107\n",
            " 0.08267117 0.07924164 0.07885521 0.08518295 0.08064243 0.08467576\n",
            " 0.08419273 0.08407197 0.08028016 0.078662   0.07786499 0.07974882\n",
            " 0.07607777 0.08175341 0.08177756 0.0838063  0.08474822 0.08228475\n",
            " 0.08527956 0.09283903 0.09081029 0.08778268 0.08910325 0.09015155\n",
            " 0.09095645 0.09158915 0.09211807 0.09259334 0.09304653 0.0934951\n",
            " 0.09394784 0.09440881 0.09487964 0.09536099]\n",
            "13 day output [[0.09585288]]\n",
            "14 day input [0.10406956 0.1046492  0.09938413 0.09370849 0.09097935 0.09136578\n",
            " 0.08201908 0.08168096 0.08044922 0.06991909 0.07057119 0.08634223\n",
            " 0.07989373 0.07250332 0.06784205 0.07095761 0.05873687 0.07014853\n",
            " 0.06747977 0.0722618  0.0700157  0.07716459 0.08098056 0.07902427\n",
            " 0.06880811 0.06750392 0.07571549 0.0736626  0.06774544 0.06895302\n",
            " 0.07045043 0.07088516 0.06728656 0.07272069 0.07477358 0.08177756\n",
            " 0.08252626 0.0866079  0.09254921 0.09891317 0.09467456 0.10237894\n",
            " 0.09658254 0.102548   0.10172684 0.10336916 0.09919092 0.10013283\n",
            " 0.09636517 0.10211327 0.10307934 0.10228233 0.10032605 0.10008453\n",
            " 0.09520589 0.09781427 0.08648714 0.08709093 0.09105181 0.09218693\n",
            " 0.08407197 0.08180171 0.07421809 0.07953146 0.08552107 0.08267117\n",
            " 0.07924164 0.07885521 0.08518295 0.08064243 0.08467576 0.08419273\n",
            " 0.08407197 0.08028016 0.078662   0.07786499 0.07974882 0.07607777\n",
            " 0.08175341 0.08177756 0.0838063  0.08474822 0.08228475 0.08527956\n",
            " 0.09283903 0.09081029 0.08778268 0.08910325 0.09015155 0.09095645\n",
            " 0.09158915 0.09211807 0.09259334 0.09304653 0.0934951  0.09394784\n",
            " 0.09440881 0.09487964 0.09536099 0.09585288]\n",
            "14 day output [[0.09635507]]\n",
            "15 day input [0.1046492  0.09938413 0.09370849 0.09097935 0.09136578 0.08201908\n",
            " 0.08168096 0.08044922 0.06991909 0.07057119 0.08634223 0.07989373\n",
            " 0.07250332 0.06784205 0.07095761 0.05873687 0.07014853 0.06747977\n",
            " 0.0722618  0.0700157  0.07716459 0.08098056 0.07902427 0.06880811\n",
            " 0.06750392 0.07571549 0.0736626  0.06774544 0.06895302 0.07045043\n",
            " 0.07088516 0.06728656 0.07272069 0.07477358 0.08177756 0.08252626\n",
            " 0.0866079  0.09254921 0.09891317 0.09467456 0.10237894 0.09658254\n",
            " 0.102548   0.10172684 0.10336916 0.09919092 0.10013283 0.09636517\n",
            " 0.10211327 0.10307934 0.10228233 0.10032605 0.10008453 0.09520589\n",
            " 0.09781427 0.08648714 0.08709093 0.09105181 0.09218693 0.08407197\n",
            " 0.08180171 0.07421809 0.07953146 0.08552107 0.08267117 0.07924164\n",
            " 0.07885521 0.08518295 0.08064243 0.08467576 0.08419273 0.08407197\n",
            " 0.08028016 0.078662   0.07786499 0.07974882 0.07607777 0.08175341\n",
            " 0.08177756 0.0838063  0.08474822 0.08228475 0.08527956 0.09283903\n",
            " 0.09081029 0.08778268 0.08910325 0.09015155 0.09095645 0.09158915\n",
            " 0.09211807 0.09259334 0.09304653 0.0934951  0.09394784 0.09440881\n",
            " 0.09487964 0.09536099 0.09585288 0.09635507]\n",
            "15 day output [[0.09686698]]\n",
            "16 day input [0.09938413 0.09370849 0.09097935 0.09136578 0.08201908 0.08168096\n",
            " 0.08044922 0.06991909 0.07057119 0.08634223 0.07989373 0.07250332\n",
            " 0.06784205 0.07095761 0.05873687 0.07014853 0.06747977 0.0722618\n",
            " 0.0700157  0.07716459 0.08098056 0.07902427 0.06880811 0.06750392\n",
            " 0.07571549 0.0736626  0.06774544 0.06895302 0.07045043 0.07088516\n",
            " 0.06728656 0.07272069 0.07477358 0.08177756 0.08252626 0.0866079\n",
            " 0.09254921 0.09891317 0.09467456 0.10237894 0.09658254 0.102548\n",
            " 0.10172684 0.10336916 0.09919092 0.10013283 0.09636517 0.10211327\n",
            " 0.10307934 0.10228233 0.10032605 0.10008453 0.09520589 0.09781427\n",
            " 0.08648714 0.08709093 0.09105181 0.09218693 0.08407197 0.08180171\n",
            " 0.07421809 0.07953146 0.08552107 0.08267117 0.07924164 0.07885521\n",
            " 0.08518295 0.08064243 0.08467576 0.08419273 0.08407197 0.08028016\n",
            " 0.078662   0.07786499 0.07974882 0.07607777 0.08175341 0.08177756\n",
            " 0.0838063  0.08474822 0.08228475 0.08527956 0.09283903 0.09081029\n",
            " 0.08778268 0.08910325 0.09015155 0.09095645 0.09158915 0.09211807\n",
            " 0.09259334 0.09304653 0.0934951  0.09394784 0.09440881 0.09487964\n",
            " 0.09536099 0.09585288 0.09635507 0.09686698]\n",
            "16 day output [[0.09738779]]\n",
            "17 day input [0.09370849 0.09097935 0.09136578 0.08201908 0.08168096 0.08044922\n",
            " 0.06991909 0.07057119 0.08634223 0.07989373 0.07250332 0.06784205\n",
            " 0.07095761 0.05873687 0.07014853 0.06747977 0.0722618  0.0700157\n",
            " 0.07716459 0.08098056 0.07902427 0.06880811 0.06750392 0.07571549\n",
            " 0.0736626  0.06774544 0.06895302 0.07045043 0.07088516 0.06728656\n",
            " 0.07272069 0.07477358 0.08177756 0.08252626 0.0866079  0.09254921\n",
            " 0.09891317 0.09467456 0.10237894 0.09658254 0.102548   0.10172684\n",
            " 0.10336916 0.09919092 0.10013283 0.09636517 0.10211327 0.10307934\n",
            " 0.10228233 0.10032605 0.10008453 0.09520589 0.09781427 0.08648714\n",
            " 0.08709093 0.09105181 0.09218693 0.08407197 0.08180171 0.07421809\n",
            " 0.07953146 0.08552107 0.08267117 0.07924164 0.07885521 0.08518295\n",
            " 0.08064243 0.08467576 0.08419273 0.08407197 0.08028016 0.078662\n",
            " 0.07786499 0.07974882 0.07607777 0.08175341 0.08177756 0.0838063\n",
            " 0.08474822 0.08228475 0.08527956 0.09283903 0.09081029 0.08778268\n",
            " 0.08910325 0.09015155 0.09095645 0.09158915 0.09211807 0.09259334\n",
            " 0.09304653 0.0934951  0.09394784 0.09440881 0.09487964 0.09536099\n",
            " 0.09585288 0.09635507 0.09686698 0.09738779]\n",
            "17 day output [[0.09791653]]\n",
            "18 day input [0.09097935 0.09136578 0.08201908 0.08168096 0.08044922 0.06991909\n",
            " 0.07057119 0.08634223 0.07989373 0.07250332 0.06784205 0.07095761\n",
            " 0.05873687 0.07014853 0.06747977 0.0722618  0.0700157  0.07716459\n",
            " 0.08098056 0.07902427 0.06880811 0.06750392 0.07571549 0.0736626\n",
            " 0.06774544 0.06895302 0.07045043 0.07088516 0.06728656 0.07272069\n",
            " 0.07477358 0.08177756 0.08252626 0.0866079  0.09254921 0.09891317\n",
            " 0.09467456 0.10237894 0.09658254 0.102548   0.10172684 0.10336916\n",
            " 0.09919092 0.10013283 0.09636517 0.10211327 0.10307934 0.10228233\n",
            " 0.10032605 0.10008453 0.09520589 0.09781427 0.08648714 0.08709093\n",
            " 0.09105181 0.09218693 0.08407197 0.08180171 0.07421809 0.07953146\n",
            " 0.08552107 0.08267117 0.07924164 0.07885521 0.08518295 0.08064243\n",
            " 0.08467576 0.08419273 0.08407197 0.08028016 0.078662   0.07786499\n",
            " 0.07974882 0.07607777 0.08175341 0.08177756 0.0838063  0.08474822\n",
            " 0.08228475 0.08527956 0.09283903 0.09081029 0.08778268 0.08910325\n",
            " 0.09015155 0.09095645 0.09158915 0.09211807 0.09259334 0.09304653\n",
            " 0.0934951  0.09394784 0.09440881 0.09487964 0.09536099 0.09585288\n",
            " 0.09635507 0.09686698 0.09738779 0.09791653]\n",
            "18 day output [[0.09845202]]\n",
            "19 day input [0.09136578 0.08201908 0.08168096 0.08044922 0.06991909 0.07057119\n",
            " 0.08634223 0.07989373 0.07250332 0.06784205 0.07095761 0.05873687\n",
            " 0.07014853 0.06747977 0.0722618  0.0700157  0.07716459 0.08098056\n",
            " 0.07902427 0.06880811 0.06750392 0.07571549 0.0736626  0.06774544\n",
            " 0.06895302 0.07045043 0.07088516 0.06728656 0.07272069 0.07477358\n",
            " 0.08177756 0.08252626 0.0866079  0.09254921 0.09891317 0.09467456\n",
            " 0.10237894 0.09658254 0.102548   0.10172684 0.10336916 0.09919092\n",
            " 0.10013283 0.09636517 0.10211327 0.10307934 0.10228233 0.10032605\n",
            " 0.10008453 0.09520589 0.09781427 0.08648714 0.08709093 0.09105181\n",
            " 0.09218693 0.08407197 0.08180171 0.07421809 0.07953146 0.08552107\n",
            " 0.08267117 0.07924164 0.07885521 0.08518295 0.08064243 0.08467576\n",
            " 0.08419273 0.08407197 0.08028016 0.078662   0.07786499 0.07974882\n",
            " 0.07607777 0.08175341 0.08177756 0.0838063  0.08474822 0.08228475\n",
            " 0.08527956 0.09283903 0.09081029 0.08778268 0.08910325 0.09015155\n",
            " 0.09095645 0.09158915 0.09211807 0.09259334 0.09304653 0.0934951\n",
            " 0.09394784 0.09440881 0.09487964 0.09536099 0.09585288 0.09635507\n",
            " 0.09686698 0.09738779 0.09791653 0.09845202]\n",
            "19 day output [[0.09899311]]\n",
            "20 day input [0.08201908 0.08168096 0.08044922 0.06991909 0.07057119 0.08634223\n",
            " 0.07989373 0.07250332 0.06784205 0.07095761 0.05873687 0.07014853\n",
            " 0.06747977 0.0722618  0.0700157  0.07716459 0.08098056 0.07902427\n",
            " 0.06880811 0.06750392 0.07571549 0.0736626  0.06774544 0.06895302\n",
            " 0.07045043 0.07088516 0.06728656 0.07272069 0.07477358 0.08177756\n",
            " 0.08252626 0.0866079  0.09254921 0.09891317 0.09467456 0.10237894\n",
            " 0.09658254 0.102548   0.10172684 0.10336916 0.09919092 0.10013283\n",
            " 0.09636517 0.10211327 0.10307934 0.10228233 0.10032605 0.10008453\n",
            " 0.09520589 0.09781427 0.08648714 0.08709093 0.09105181 0.09218693\n",
            " 0.08407197 0.08180171 0.07421809 0.07953146 0.08552107 0.08267117\n",
            " 0.07924164 0.07885521 0.08518295 0.08064243 0.08467576 0.08419273\n",
            " 0.08407197 0.08028016 0.078662   0.07786499 0.07974882 0.07607777\n",
            " 0.08175341 0.08177756 0.0838063  0.08474822 0.08228475 0.08527956\n",
            " 0.09283903 0.09081029 0.08778268 0.08910325 0.09015155 0.09095645\n",
            " 0.09158915 0.09211807 0.09259334 0.09304653 0.0934951  0.09394784\n",
            " 0.09440881 0.09487964 0.09536099 0.09585288 0.09635507 0.09686698\n",
            " 0.09738779 0.09791653 0.09845202 0.09899311]\n",
            "20 day output [[0.09953856]]\n",
            "21 day input [0.08168096 0.08044922 0.06991909 0.07057119 0.08634223 0.07989373\n",
            " 0.07250332 0.06784205 0.07095761 0.05873687 0.07014853 0.06747977\n",
            " 0.0722618  0.0700157  0.07716459 0.08098056 0.07902427 0.06880811\n",
            " 0.06750392 0.07571549 0.0736626  0.06774544 0.06895302 0.07045043\n",
            " 0.07088516 0.06728656 0.07272069 0.07477358 0.08177756 0.08252626\n",
            " 0.0866079  0.09254921 0.09891317 0.09467456 0.10237894 0.09658254\n",
            " 0.102548   0.10172684 0.10336916 0.09919092 0.10013283 0.09636517\n",
            " 0.10211327 0.10307934 0.10228233 0.10032605 0.10008453 0.09520589\n",
            " 0.09781427 0.08648714 0.08709093 0.09105181 0.09218693 0.08407197\n",
            " 0.08180171 0.07421809 0.07953146 0.08552107 0.08267117 0.07924164\n",
            " 0.07885521 0.08518295 0.08064243 0.08467576 0.08419273 0.08407197\n",
            " 0.08028016 0.078662   0.07786499 0.07974882 0.07607777 0.08175341\n",
            " 0.08177756 0.0838063  0.08474822 0.08228475 0.08527956 0.09283903\n",
            " 0.09081029 0.08778268 0.08910325 0.09015155 0.09095645 0.09158915\n",
            " 0.09211807 0.09259334 0.09304653 0.0934951  0.09394784 0.09440881\n",
            " 0.09487964 0.09536099 0.09585288 0.09635507 0.09686698 0.09738779\n",
            " 0.09791653 0.09845202 0.09899311 0.09953856]\n",
            "21 day output [[0.10008729]]\n",
            "22 day input [0.08044922 0.06991909 0.07057119 0.08634223 0.07989373 0.07250332\n",
            " 0.06784205 0.07095761 0.05873687 0.07014853 0.06747977 0.0722618\n",
            " 0.0700157  0.07716459 0.08098056 0.07902427 0.06880811 0.06750392\n",
            " 0.07571549 0.0736626  0.06774544 0.06895302 0.07045043 0.07088516\n",
            " 0.06728656 0.07272069 0.07477358 0.08177756 0.08252626 0.0866079\n",
            " 0.09254921 0.09891317 0.09467456 0.10237894 0.09658254 0.102548\n",
            " 0.10172684 0.10336916 0.09919092 0.10013283 0.09636517 0.10211327\n",
            " 0.10307934 0.10228233 0.10032605 0.10008453 0.09520589 0.09781427\n",
            " 0.08648714 0.08709093 0.09105181 0.09218693 0.08407197 0.08180171\n",
            " 0.07421809 0.07953146 0.08552107 0.08267117 0.07924164 0.07885521\n",
            " 0.08518295 0.08064243 0.08467576 0.08419273 0.08407197 0.08028016\n",
            " 0.078662   0.07786499 0.07974882 0.07607777 0.08175341 0.08177756\n",
            " 0.0838063  0.08474822 0.08228475 0.08527956 0.09283903 0.09081029\n",
            " 0.08778268 0.08910325 0.09015155 0.09095645 0.09158915 0.09211807\n",
            " 0.09259334 0.09304653 0.0934951  0.09394784 0.09440881 0.09487964\n",
            " 0.09536099 0.09585288 0.09635507 0.09686698 0.09738779 0.09791653\n",
            " 0.09845202 0.09899311 0.09953856 0.10008729]\n",
            "22 day output [[0.10063829]]\n",
            "23 day input [0.06991909 0.07057119 0.08634223 0.07989373 0.07250332 0.06784205\n",
            " 0.07095761 0.05873687 0.07014853 0.06747977 0.0722618  0.0700157\n",
            " 0.07716459 0.08098056 0.07902427 0.06880811 0.06750392 0.07571549\n",
            " 0.0736626  0.06774544 0.06895302 0.07045043 0.07088516 0.06728656\n",
            " 0.07272069 0.07477358 0.08177756 0.08252626 0.0866079  0.09254921\n",
            " 0.09891317 0.09467456 0.10237894 0.09658254 0.102548   0.10172684\n",
            " 0.10336916 0.09919092 0.10013283 0.09636517 0.10211327 0.10307934\n",
            " 0.10228233 0.10032605 0.10008453 0.09520589 0.09781427 0.08648714\n",
            " 0.08709093 0.09105181 0.09218693 0.08407197 0.08180171 0.07421809\n",
            " 0.07953146 0.08552107 0.08267117 0.07924164 0.07885521 0.08518295\n",
            " 0.08064243 0.08467576 0.08419273 0.08407197 0.08028016 0.078662\n",
            " 0.07786499 0.07974882 0.07607777 0.08175341 0.08177756 0.0838063\n",
            " 0.08474822 0.08228475 0.08527956 0.09283903 0.09081029 0.08778268\n",
            " 0.08910325 0.09015155 0.09095645 0.09158915 0.09211807 0.09259334\n",
            " 0.09304653 0.0934951  0.09394784 0.09440881 0.09487964 0.09536099\n",
            " 0.09585288 0.09635507 0.09686698 0.09738779 0.09791653 0.09845202\n",
            " 0.09899311 0.09953856 0.10008729 0.10063829]\n",
            "23 day output [[0.10119073]]\n",
            "24 day input [0.07057119 0.08634223 0.07989373 0.07250332 0.06784205 0.07095761\n",
            " 0.05873687 0.07014853 0.06747977 0.0722618  0.0700157  0.07716459\n",
            " 0.08098056 0.07902427 0.06880811 0.06750392 0.07571549 0.0736626\n",
            " 0.06774544 0.06895302 0.07045043 0.07088516 0.06728656 0.07272069\n",
            " 0.07477358 0.08177756 0.08252626 0.0866079  0.09254921 0.09891317\n",
            " 0.09467456 0.10237894 0.09658254 0.102548   0.10172684 0.10336916\n",
            " 0.09919092 0.10013283 0.09636517 0.10211327 0.10307934 0.10228233\n",
            " 0.10032605 0.10008453 0.09520589 0.09781427 0.08648714 0.08709093\n",
            " 0.09105181 0.09218693 0.08407197 0.08180171 0.07421809 0.07953146\n",
            " 0.08552107 0.08267117 0.07924164 0.07885521 0.08518295 0.08064243\n",
            " 0.08467576 0.08419273 0.08407197 0.08028016 0.078662   0.07786499\n",
            " 0.07974882 0.07607777 0.08175341 0.08177756 0.0838063  0.08474822\n",
            " 0.08228475 0.08527956 0.09283903 0.09081029 0.08778268 0.08910325\n",
            " 0.09015155 0.09095645 0.09158915 0.09211807 0.09259334 0.09304653\n",
            " 0.0934951  0.09394784 0.09440881 0.09487964 0.09536099 0.09585288\n",
            " 0.09635507 0.09686698 0.09738779 0.09791653 0.09845202 0.09899311\n",
            " 0.09953856 0.10008729 0.10063829 0.10119073]\n",
            "24 day output [[0.10174388]]\n",
            "25 day input [0.08634223 0.07989373 0.07250332 0.06784205 0.07095761 0.05873687\n",
            " 0.07014853 0.06747977 0.0722618  0.0700157  0.07716459 0.08098056\n",
            " 0.07902427 0.06880811 0.06750392 0.07571549 0.0736626  0.06774544\n",
            " 0.06895302 0.07045043 0.07088516 0.06728656 0.07272069 0.07477358\n",
            " 0.08177756 0.08252626 0.0866079  0.09254921 0.09891317 0.09467456\n",
            " 0.10237894 0.09658254 0.102548   0.10172684 0.10336916 0.09919092\n",
            " 0.10013283 0.09636517 0.10211327 0.10307934 0.10228233 0.10032605\n",
            " 0.10008453 0.09520589 0.09781427 0.08648714 0.08709093 0.09105181\n",
            " 0.09218693 0.08407197 0.08180171 0.07421809 0.07953146 0.08552107\n",
            " 0.08267117 0.07924164 0.07885521 0.08518295 0.08064243 0.08467576\n",
            " 0.08419273 0.08407197 0.08028016 0.078662   0.07786499 0.07974882\n",
            " 0.07607777 0.08175341 0.08177756 0.0838063  0.08474822 0.08228475\n",
            " 0.08527956 0.09283903 0.09081029 0.08778268 0.08910325 0.09015155\n",
            " 0.09095645 0.09158915 0.09211807 0.09259334 0.09304653 0.0934951\n",
            " 0.09394784 0.09440881 0.09487964 0.09536099 0.09585288 0.09635507\n",
            " 0.09686698 0.09738779 0.09791653 0.09845202 0.09899311 0.09953856\n",
            " 0.10008729 0.10063829 0.10119073 0.10174388]\n",
            "25 day output [[0.10229719]]\n",
            "26 day input [0.07989373 0.07250332 0.06784205 0.07095761 0.05873687 0.07014853\n",
            " 0.06747977 0.0722618  0.0700157  0.07716459 0.08098056 0.07902427\n",
            " 0.06880811 0.06750392 0.07571549 0.0736626  0.06774544 0.06895302\n",
            " 0.07045043 0.07088516 0.06728656 0.07272069 0.07477358 0.08177756\n",
            " 0.08252626 0.0866079  0.09254921 0.09891317 0.09467456 0.10237894\n",
            " 0.09658254 0.102548   0.10172684 0.10336916 0.09919092 0.10013283\n",
            " 0.09636517 0.10211327 0.10307934 0.10228233 0.10032605 0.10008453\n",
            " 0.09520589 0.09781427 0.08648714 0.08709093 0.09105181 0.09218693\n",
            " 0.08407197 0.08180171 0.07421809 0.07953146 0.08552107 0.08267117\n",
            " 0.07924164 0.07885521 0.08518295 0.08064243 0.08467576 0.08419273\n",
            " 0.08407197 0.08028016 0.078662   0.07786499 0.07974882 0.07607777\n",
            " 0.08175341 0.08177756 0.0838063  0.08474822 0.08228475 0.08527956\n",
            " 0.09283903 0.09081029 0.08778268 0.08910325 0.09015155 0.09095645\n",
            " 0.09158915 0.09211807 0.09259334 0.09304653 0.0934951  0.09394784\n",
            " 0.09440881 0.09487964 0.09536099 0.09585288 0.09635507 0.09686698\n",
            " 0.09738779 0.09791653 0.09845202 0.09899311 0.09953856 0.10008729\n",
            " 0.10063829 0.10119073 0.10174388 0.10229719]\n",
            "26 day output [[0.10285033]]\n",
            "27 day input [0.07250332 0.06784205 0.07095761 0.05873687 0.07014853 0.06747977\n",
            " 0.0722618  0.0700157  0.07716459 0.08098056 0.07902427 0.06880811\n",
            " 0.06750392 0.07571549 0.0736626  0.06774544 0.06895302 0.07045043\n",
            " 0.07088516 0.06728656 0.07272069 0.07477358 0.08177756 0.08252626\n",
            " 0.0866079  0.09254921 0.09891317 0.09467456 0.10237894 0.09658254\n",
            " 0.102548   0.10172684 0.10336916 0.09919092 0.10013283 0.09636517\n",
            " 0.10211327 0.10307934 0.10228233 0.10032605 0.10008453 0.09520589\n",
            " 0.09781427 0.08648714 0.08709093 0.09105181 0.09218693 0.08407197\n",
            " 0.08180171 0.07421809 0.07953146 0.08552107 0.08267117 0.07924164\n",
            " 0.07885521 0.08518295 0.08064243 0.08467576 0.08419273 0.08407197\n",
            " 0.08028016 0.078662   0.07786499 0.07974882 0.07607777 0.08175341\n",
            " 0.08177756 0.0838063  0.08474822 0.08228475 0.08527956 0.09283903\n",
            " 0.09081029 0.08778268 0.08910325 0.09015155 0.09095645 0.09158915\n",
            " 0.09211807 0.09259334 0.09304653 0.0934951  0.09394784 0.09440881\n",
            " 0.09487964 0.09536099 0.09585288 0.09635507 0.09686698 0.09738779\n",
            " 0.09791653 0.09845202 0.09899311 0.09953856 0.10008729 0.10063829\n",
            " 0.10119073 0.10174388 0.10229719 0.10285033]\n",
            "27 day output [[0.10340296]]\n",
            "28 day input [0.06784205 0.07095761 0.05873687 0.07014853 0.06747977 0.0722618\n",
            " 0.0700157  0.07716459 0.08098056 0.07902427 0.06880811 0.06750392\n",
            " 0.07571549 0.0736626  0.06774544 0.06895302 0.07045043 0.07088516\n",
            " 0.06728656 0.07272069 0.07477358 0.08177756 0.08252626 0.0866079\n",
            " 0.09254921 0.09891317 0.09467456 0.10237894 0.09658254 0.102548\n",
            " 0.10172684 0.10336916 0.09919092 0.10013283 0.09636517 0.10211327\n",
            " 0.10307934 0.10228233 0.10032605 0.10008453 0.09520589 0.09781427\n",
            " 0.08648714 0.08709093 0.09105181 0.09218693 0.08407197 0.08180171\n",
            " 0.07421809 0.07953146 0.08552107 0.08267117 0.07924164 0.07885521\n",
            " 0.08518295 0.08064243 0.08467576 0.08419273 0.08407197 0.08028016\n",
            " 0.078662   0.07786499 0.07974882 0.07607777 0.08175341 0.08177756\n",
            " 0.0838063  0.08474822 0.08228475 0.08527956 0.09283903 0.09081029\n",
            " 0.08778268 0.08910325 0.09015155 0.09095645 0.09158915 0.09211807\n",
            " 0.09259334 0.09304653 0.0934951  0.09394784 0.09440881 0.09487964\n",
            " 0.09536099 0.09585288 0.09635507 0.09686698 0.09738779 0.09791653\n",
            " 0.09845202 0.09899311 0.09953856 0.10008729 0.10063829 0.10119073\n",
            " 0.10174388 0.10229719 0.10285033 0.10340296]\n",
            "28 day output [[0.10395497]]\n",
            "29 day input [0.07095761 0.05873687 0.07014853 0.06747977 0.0722618  0.0700157\n",
            " 0.07716459 0.08098056 0.07902427 0.06880811 0.06750392 0.07571549\n",
            " 0.0736626  0.06774544 0.06895302 0.07045043 0.07088516 0.06728656\n",
            " 0.07272069 0.07477358 0.08177756 0.08252626 0.0866079  0.09254921\n",
            " 0.09891317 0.09467456 0.10237894 0.09658254 0.102548   0.10172684\n",
            " 0.10336916 0.09919092 0.10013283 0.09636517 0.10211327 0.10307934\n",
            " 0.10228233 0.10032605 0.10008453 0.09520589 0.09781427 0.08648714\n",
            " 0.08709093 0.09105181 0.09218693 0.08407197 0.08180171 0.07421809\n",
            " 0.07953146 0.08552107 0.08267117 0.07924164 0.07885521 0.08518295\n",
            " 0.08064243 0.08467576 0.08419273 0.08407197 0.08028016 0.078662\n",
            " 0.07786499 0.07974882 0.07607777 0.08175341 0.08177756 0.0838063\n",
            " 0.08474822 0.08228475 0.08527956 0.09283903 0.09081029 0.08778268\n",
            " 0.08910325 0.09015155 0.09095645 0.09158915 0.09211807 0.09259334\n",
            " 0.09304653 0.0934951  0.09394784 0.09440881 0.09487964 0.09536099\n",
            " 0.09585288 0.09635507 0.09686698 0.09738779 0.09791653 0.09845202\n",
            " 0.09899311 0.09953856 0.10008729 0.10063829 0.10119073 0.10174388\n",
            " 0.10229719 0.10285033 0.10340296 0.10395497]\n",
            "29 day output [[0.1045063]]\n",
            "[[0.08778268098831177], [0.08910325169563293], [0.09015154838562012], [0.09095644950866699], [0.09158915281295776], [0.09211806952953339], [0.09259334206581116], [0.09304653108119965], [0.09349510073661804], [0.09394784271717072], [0.09440881013870239], [0.0948796421289444], [0.09536099433898926], [0.09585288166999817], [0.09635506570339203], [0.09686698019504547], [0.09738779067993164], [0.09791652858257294], [0.09845201671123505], [0.09899310767650604], [0.09953856468200684], [0.10008728504180908], [0.10063828527927399], [0.1011907309293747], [0.10174387693405151], [0.10229718685150146], [0.10285033285617828], [0.10340295732021332], [0.1039549708366394], [0.10450629889965057]]\n"
          ],
          "name": "stdout"
        }
      ]
    },
    {
      "cell_type": "code",
      "metadata": {
        "id": "v5iOHpA76weR"
      },
      "source": [
        "day_new=np.arange(1,101)\n",
        "day_pred=np.arange(101,131)"
      ],
      "execution_count": null,
      "outputs": []
    },
    {
      "cell_type": "code",
      "metadata": {
        "colab": {
          "base_uri": "https://localhost:8080/"
        },
        "id": "yKqq6lCN7R12",
        "outputId": "1850c636-972f-48c8-9e33-8280b1fa8a57"
      },
      "source": [
        "len(df1)"
      ],
      "execution_count": null,
      "outputs": [
        {
          "output_type": "execute_result",
          "data": {
            "text/plain": [
              "1257"
            ]
          },
          "metadata": {
            "tags": []
          },
          "execution_count": 62
        }
      ]
    },
    {
      "cell_type": "code",
      "metadata": {
        "colab": {
          "base_uri": "https://localhost:8080/",
          "height": 610
        },
        "id": "wVICC2mP7UBs",
        "outputId": "20e5a5bf-99aa-46af-b2f8-fcccac75cc99"
      },
      "source": [
        "plt.figure(figsize=(18, 10))\n",
        "plt.plot(day_new,scaler.inverse_transform(df1[1157:]))\n",
        "plt.plot(day_pred,scaler.inverse_transform(lst_output))"
      ],
      "execution_count": null,
      "outputs": [
        {
          "output_type": "execute_result",
          "data": {
            "text/plain": [
              "[<matplotlib.lines.Line2D at 0x7fcf83f31910>]"
            ]
          },
          "metadata": {
            "tags": []
          },
          "execution_count": 67
        },
        {
          "output_type": "display_data",
          "data": {
            "image/png": "[encoded data removed]",
            "text/plain": [
              "<Figure size 1296x720 with 1 Axes>"
            ]
          },
          "metadata": {
            "tags": [],
            "needs_background": "light"
          }
        }
      ]
    },
    {
      "cell_type": "code",
      "metadata": {
        "colab": {
          "base_uri": "https://localhost:8080/",
          "height": 610
        },
        "id": "7TLwLXNK7Vqm",
        "outputId": "0405ac7f-3300-4b32-8cb1-e231c45044ea"
      },
      "source": [
        "plt.figure(figsize=(18, 10))\n",
        "df3=df1.tolist()\n",
        "df3.extend(lst_output)\n",
        "plt.plot(df3[1200:])\n"
      ],
      "execution_count": null,
      "outputs": [
        {
          "output_type": "execute_result",
          "data": {
            "text/plain": [
              "[<matplotlib.lines.Line2D at 0x7fcf8398eb50>]"
            ]
          },
          "metadata": {
            "tags": []
          },
          "execution_count": 73
        },
        {
          "output_type": "display_data",
          "data": {
            "image/png": "[encoded data removed]",
            "text/plain": [
              "<Figure size 1296x720 with 1 Axes>"
            ]
          },
          "metadata": {
            "tags": [],
            "needs_background": "light"
          }
        }
      ]
    },
    {
      "cell_type": "code",
      "metadata": {
        "colab": {
          "base_uri": "https://localhost:8080/",
          "height": 610
        },
        "id": "eoEzJLU173pj",
        "outputId": "beac8edf-a0cc-4338-f5bd-10d50ed7980b"
      },
      "source": [
        "plt.figure(figsize=(18, 10))\n",
        "df3=scaler.inverse_transform(df3).tolist()\n",
        "plt.plot(df3)"
      ],
      "execution_count": null,
      "outputs": [
        {
          "output_type": "execute_result",
          "data": {
            "text/plain": [
              "[<matplotlib.lines.Line2D at 0x7fcf83a29f50>]"
            ]
          },
          "metadata": {
            "tags": []
          },
          "execution_count": 72
        },
        {
          "output_type": "display_data",
          "data": {
            "image/png": "[encoded data removed]",
            "text/plain": [
              "<Figure size 1296x720 with 1 Axes>"
            ]
          },
          "metadata": {
            "tags": [],
            "needs_background": "light"
          }
        }
      ]
    },
    {
      "cell_type": "code",
      "metadata": {
        "id": "rRuJ4uk979aI"
      },
      "source": [
        ""
      ],
      "execution_count": null,
      "outputs": []
    }
  ]
}